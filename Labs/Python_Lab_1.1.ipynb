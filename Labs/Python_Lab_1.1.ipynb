{
 "cells": [
  {
   "cell_type": "markdown",
   "metadata": {},
   "source": [
    "# Python_Lab_1.1\n"
   ]
  },
  {
   "cell_type": "markdown",
   "metadata": {},
   "source": [
    "### Task 1\n",
    "1. Print a welcome message.\n",
    "2. Create variables to store the following details:\n",
    "    - Your name (string)\n",
    "    - Your age (integer)\n",
    "    - Your height (float)\n",
    "    - Whether you are a student (boolean)\n",
    "3. Print these details.\n"
   ]
  },
  {
   "cell_type": "code",
   "execution_count": 1,
   "metadata": {},
   "outputs": [
    {
     "name": "stdout",
     "output_type": "stream",
     "text": [
      "Welcome to the program!\n",
      "Name: Jumanah \n",
      "Age: 23\n",
      "Height: 163.0\n",
      "Student: True\n"
     ]
    }
   ],
   "source": [
    "print(\"Welcome to the program!\")\n",
    "\n",
    "# Step 2: Create variables to store details\n",
    "name = \"Jumanah \"  # Replace with your name\n",
    "age = 23 # Replace with your age\n",
    "height = 163.0  # Replace with your height in feet or meters\n",
    "is_student = True  # Change to False if not a student\n",
    "\n",
    "# Step 3: Print these details\n",
    "print(\"Name:\", name)\n",
    "print(\"Age:\", age)\n",
    "print(\"Height:\", height)\n",
    "print(\"Student:\", is_student)"
   ]
  },
  {
   "cell_type": "markdown",
   "metadata": {},
   "source": [
    "### Task 2\n",
    " 1. Create a list of 5 favorite fruits.\n",
    " 2. Create a list with the price of each fruit.\n",
    " 3. Print the data types of these lists."
   ]
  },
  {
   "cell_type": "code",
   "execution_count": 2,
   "metadata": {},
   "outputs": [
    {
     "name": "stdout",
     "output_type": "stream",
     "text": [
      "Data type of favorite_fruits: <class 'list'>\n",
      "Data type of fruit_prices: <class 'list'>\n"
     ]
    }
   ],
   "source": [
    "# write your code here ^_^\n",
    "# Task 2\n",
    "# Step 1: Create a list of 5 favorite fruits\n",
    "favorite_fruits = [\"Apple\", \"Banana\", \"Mango\", \"Strawberry\", \"Orange\"]\n",
    "\n",
    "# Step 2: Create a list with the price of each fruit\n",
    "fruit_prices = [1.2, 0.5, 1.8, 2.0, 1.0]  # Prices in arbitrary units\n",
    "\n",
    "# Step 3: Print the data types of these lists\n",
    "print(\"Data type of favorite_fruits:\", type(favorite_fruits))\n",
    "print(\"Data type of fruit_prices:\", type(fruit_prices))\n"
   ]
  },
  {
   "cell_type": "markdown",
   "metadata": {},
   "source": [
    "### Task 3\n",
    "1. Print the names of all fruits using a loop.\n",
    "2. Using a while loop and input built-in function, do the following:\n",
    "    - Ask the the user : \"what is the product of 7 * 24 ?\"\n",
    "    - check if the answer is right then exit the loop and print \"You answered this Question correctly\".\n",
    "    - if the answer is wrong, then print \"Your Answer is wrong try again..\" and show the user the question again.\n",
    "3. Build a program that takes one defined variable of type int, then it prints out the result formatted like the following pattern (if we give it 5 for example):\n",
    "\n",
    "    5 4 3 2 1\n",
    "\n",
    "    4 3 2 1\n",
    "\n",
    "    3 2 1\n",
    "\n",
    "    2 1\n",
    "    \n",
    "    1"
   ]
  },
  {
   "cell_type": "code",
   "execution_count": null,
   "metadata": {},
   "outputs": [
    {
     "name": "stdout",
     "output_type": "stream",
     "text": [
      "Apple\n",
      "Banana\n",
      "Mango\n",
      "Strawberry\n",
      "Orange\n"
     ]
    }
   ],
   "source": [
    "# write your code here ^_^\n",
    "# Step 1: Print the names of all fruits using a loop\n",
    "for fruit in favorite_fruits:\n",
    "    print(fruit)\n",
    "\n",
    "# Step 2: Using a while loop and input built-in function\n",
    "while True:\n",
    "    answer = int(input(\"What is the product of 7 * 24? \"))\n",
    "    if answer == 168:\n",
    "        print(\"You answered this Question correctly\")\n",
    "        break\n",
    "    else:\n",
    "        print(\"Your Answer is wrong try again..\")\n",
    "\n",
    "# Step 3: Build a program that prints the pattern\n",
    "num = 5  \n",
    "for i in range(num, 0, -1):\n",
    "    for j in range(i, 0, -1):\n",
    "        print(j, end=\" \")\n",
    "    print()\n"
   ]
  },
  {
   "cell_type": "markdown",
   "metadata": {},
   "source": [
    "### Task 4\n",
    "You want to recommend a movie to a friend based on the rating and popularity. To accomplish this do the following:\n",
    "\n",
    "- Create a variable for the movie (choose any movie you like).\n",
    "- Create a variable of type int to hold the rating of the movie out of 5. Give this movie rate = 3\n",
    "- Create a popularity score of type float, let it be 72.65\n",
    "- Using an if statement:\n",
    "    - Check if the movie rating is 4 or greater and the popularity is greater than 80, print \"Highly recommended\".\n",
    "    - Else if the movie rating is 3 or greater and the popularity is greater than 70, print \"I recommended it, It is good\".\n",
    "    - Else if the movie rating is 2 or less and the popularity is greater than 60, print \"You should check it out!\".\n",
    "    - Else the movie rating is 2 or less and the popularity is less than 50, print \"Don't watch it, It is a waste of time\"."
   ]
  },
  {
   "cell_type": "code",
   "execution_count": 1,
   "metadata": {},
   "outputs": [
    {
     "name": "stdout",
     "output_type": "stream",
     "text": [
      "I recommended it, It is good\n"
     ]
    }
   ],
   "source": [
    "# Step 1: Create a variable for the movie\n",
    "movie = \"Inception\"\n",
    "\n",
    "# Step 2: Create variables for rating and popularity\n",
    "rating = 3  # Rating out of 5\n",
    "popularity = 72.65  # Popularity score\n",
    "\n",
    "# Step 3: Use if-elif-else statements to recommend the movie\n",
    "if rating >= 4 and popularity > 80:\n",
    "    print(\"Highly recommended\")\n",
    "elif rating >= 3 and popularity > 70:\n",
    "    print(\"I recommended it, It is good\")\n",
    "elif rating <= 2 and popularity > 60:\n",
    "    print(\"You should check it out!\")\n",
    "elif rating <= 2 and popularity < 50:\n",
    "    print(\"Don't watch it, It is a waste of time\")\n"
   ]
  }
 ],
 "metadata": {
  "kernelspec": {
   "display_name": "base",
   "language": "python",
   "name": "python3"
  },
  "language_info": {
   "codemirror_mode": {
    "name": "ipython",
    "version": 3
   },
   "file_extension": ".py",
   "mimetype": "text/x-python",
   "name": "python",
   "nbconvert_exporter": "python",
   "pygments_lexer": "ipython3",
   "version": "3.12.7"
  }
 },
 "nbformat": 4,
 "nbformat_minor": 2
}
