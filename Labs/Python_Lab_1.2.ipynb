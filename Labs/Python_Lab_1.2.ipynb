{
 "cells": [
  {
   "cell_type": "markdown",
   "metadata": {},
   "source": [
    "# Python_Lab_1.2"
   ]
  },
  {
   "cell_type": "markdown",
   "metadata": {},
   "source": [
    "### Task 1: \n",
    "1. Create a tuple with the following details:\n",
    "    - Your favorite movie (string)\n",
    "    - The year it was released (integer)\n",
    "    - Its rating out of 10 (float)\n",
    "    - Whether you have watched it (boolean)\n",
    "2. Print the detailes"
   ]
  },
  {
   "cell_type": "code",
   "execution_count": 1,
   "metadata": {},
   "outputs": [
    {
     "name": "stdout",
     "output_type": "stream",
     "text": [
      "Favorite Movie Details:\n",
      "Title: Interstellar\n",
      "Year Released: 2014\n",
      "Rating: 9.3/10\n",
      "Watched: Yes\n"
     ]
    }
   ],
   "source": [
    "# Creating a tuple with favorite movie details\n",
    "favorite_movie = (\"Interstellar\", 2014, 9.3, True)\n",
    "\n",
    "# Printing the details\n",
    "print(\"Favorite Movie Details:\")\n",
    "print(f\"Title: {favorite_movie[0]}\")\n",
    "print(f\"Year Released: {favorite_movie[1]}\")\n",
    "print(f\"Rating: {favorite_movie[2]}/10\")\n",
    "print(f\"Watched: {'Yes' if favorite_movie[3] else 'No'}\")\n"
   ]
  },
  {
   "cell_type": "markdown",
   "metadata": {},
   "source": [
    "### Task 2:\n",
    "1. Create a set of 5 favorite colors.\n",
    "2. Print all the colors"
   ]
  },
  {
   "cell_type": "code",
   "execution_count": 2,
   "metadata": {},
   "outputs": [
    {
     "name": "stdout",
     "output_type": "stream",
     "text": [
      "My Favorite Colors:\n",
      "Purple\n",
      "Black\n",
      "Blue\n",
      "Red\n",
      "Green\n"
     ]
    }
   ],
   "source": [
    "# Creating a set of 5 favorite colors\n",
    "favorite_colors = {\"Blue\", \"Red\", \"Green\", \"Black\", \"Purple\"}\n",
    "\n",
    "# Printing all the colors\n",
    "print(\"My Favorite Colors:\")\n",
    "for color in favorite_colors:\n",
    "    print(color)\n"
   ]
  },
  {
   "cell_type": "markdown",
   "metadata": {},
   "source": [
    "### Task 3:\n",
    "1. Create a dictionary to store information about 3 friends (name as key and a tuple with age and favorite hobby as value).\n",
    "2. Print the details of all friends."
   ]
  },
  {
   "cell_type": "code",
   "execution_count": 3,
   "metadata": {},
   "outputs": [
    {
     "name": "stdout",
     "output_type": "stream",
     "text": [
      "Friends' Information:\n",
      "Name: Alaa\n",
      "Age: 25\n",
      "Favorite Hobby: Painting\n",
      "--------------------\n",
      "Name: shahad\n",
      "Age: 27\n",
      "Favorite Hobby: Cycling\n",
      "--------------------\n",
      "Name: nora\n",
      "Age: 24\n",
      "Favorite Hobby: Gaming\n",
      "--------------------\n"
     ]
    }
   ],
   "source": [
    "# Creating a dictionary to store information about 3 friends\n",
    "friends_info = {\n",
    "    \"Alaa\": (25, \"Painting\"),\n",
    "    \"shahad\": (27, \"Cycling\"),\n",
    "    \"nora\": (24, \"Gaming\")\n",
    "}\n",
    "\n",
    "# Printing the details of all friends\n",
    "print(\"Friends' Information:\")\n",
    "for name, details in friends_info.items():\n",
    "    print(f\"Name: {name}\")\n",
    "    print(f\"Age: {details[0]}\")\n",
    "    print(f\"Favorite Hobby: {details[1]}\")\n",
    "    print(\"-\" * 20)  # Separator for readability\n"
   ]
  },
  {
   "cell_type": "markdown",
   "metadata": {},
   "source": [
    "### Task 4:\n",
    "1. Check if you have watched the movie and print an appropriate message.\n",
    "1. Check if a specific color is in your favorite colors set and print its availability status."
   ]
  },
  {
   "cell_type": "code",
   "execution_count": 4,
   "metadata": {},
   "outputs": [
    {
     "name": "stdout",
     "output_type": "stream",
     "text": [
      "You have watched 'Interstellar'.\n",
      "The color 'Blue' is in your favorite colors list.\n"
     ]
    }
   ],
   "source": [
    "# Movie details tuple\n",
    "favorite_movie = (\"Interstellar\", 2014, 9.3, True)\n",
    "\n",
    "# Checking if the movie has been watched\n",
    "if favorite_movie[3]:\n",
    "    print(f\"You have watched '{favorite_movie[0]}'.\")\n",
    "else:\n",
    "    print(f\"You have not watched '{favorite_movie[0]}' yet.\")\n",
    "\n",
    "# Set of favorite colors\n",
    "favorite_colors = {\"Blue\", \"Red\", \"Green\", \"Black\", \"Purple\"}\n",
    "\n",
    "# Specific color to check\n",
    "color_to_check = \"Blue\"\n",
    "\n",
    "# Checking if the color is in the favorite colors set\n",
    "if color_to_check in favorite_colors:\n",
    "    print(f\"The color '{color_to_check}' is in your favorite colors list.\")\n",
    "else:\n",
    "    print(f\"The color '{color_to_check}' is not in your favorite colors list.\")\n"
   ]
  },
  {
   "cell_type": "markdown",
   "metadata": {},
   "source": []
  }
 ],
 "metadata": {
  "kernelspec": {
   "display_name": "base",
   "language": "python",
   "name": "python3"
  },
  "language_info": {
   "codemirror_mode": {
    "name": "ipython",
    "version": 3
   },
   "file_extension": ".py",
   "mimetype": "text/x-python",
   "name": "python",
   "nbconvert_exporter": "python",
   "pygments_lexer": "ipython3",
   "version": "3.12.7"
  }
 },
 "nbformat": 4,
 "nbformat_minor": 2
}
